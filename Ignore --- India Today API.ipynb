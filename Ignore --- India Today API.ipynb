{
 "cells": [
  {
   "cell_type": "code",
   "execution_count": 1,
   "metadata": {},
   "outputs": [],
   "source": [
    "import requests\n",
    "response = requests.get(\"https://www.indiatoday.in/api/ajax/newslist?page=11&id=1792990&type=story&display=12&datetime_from=2019-12-01&datetime_till=2020-03-31\")\n"
   ]
  },
  {
   "cell_type": "code",
   "execution_count": 55,
   "metadata": {},
   "outputs": [
    {
     "data": {
      "text/plain": [
       "<Response [200]>"
      ]
     },
     "execution_count": 55,
     "metadata": {},
     "output_type": "execute_result"
    }
   ],
   "source": [
    "response"
   ]
  },
  {
   "cell_type": "code",
   "execution_count": 56,
   "metadata": {},
   "outputs": [],
   "source": [
    "file = response.json()"
   ]
  },
  {
   "cell_type": "code",
   "execution_count": 57,
   "metadata": {},
   "outputs": [
    {
     "data": {
      "text/plain": [
       "dict_keys(['status_code', 'status_message', 'data'])"
      ]
     },
     "execution_count": 57,
     "metadata": {},
     "output_type": "execute_result"
    }
   ],
   "source": [
    "file.keys()"
   ]
  },
  {
   "cell_type": "code",
   "execution_count": 67,
   "metadata": {},
   "outputs": [
    {
     "data": {
      "text/plain": [
       "dict_keys(['id', 'title', 'title_amp', 'type', 'layout', 'category_detail', 'seo_detail', 'third_lmenu', 'is_load_more', 'content_count_fetched', 'content_count_display', 'pagination_cap', 'datetime_from', 'datetime_till', 'content', 'top', 'left', 'right', 'header_html', 'cache'])"
      ]
     },
     "execution_count": 67,
     "metadata": {},
     "output_type": "execute_result"
    }
   ],
   "source": [
    "file['data'].keys()"
   ]
  },
  {
   "cell_type": "code",
   "execution_count": 62,
   "metadata": {},
   "outputs": [],
   "source": [
    "data = file['data']"
   ]
  },
  {
   "cell_type": "code",
   "execution_count": 66,
   "metadata": {},
   "outputs": [
    {
     "name": "stdout",
     "output_type": "stream",
     "text": [
      "/fact-check/story/fact-check-no-pm-modi-did-not-say-singing-bhajans-could-help-reduce-malnutrition-1994965-2022-08-31\n",
      "/fact-check/story/fact-check-first-indian-virtual-school-delhi-kejriwal-govt-gets-schooled-1994959-2022-08-31\n",
      "/fact-check/story/fact-check-old-video-t-raja-singh-viral-suspended-bjp-mla-eating-prison-food-after-recent-arrest-1994821-2022-08-31\n",
      "/fact-check/story/moqtada-al-sadr-supporters-iranian-pilgrims-attacks-false-claim-egyptian-soccer-fans-1994544-2022-08-30\n",
      "/fact-check/story/viral-video-woman-falling-into-pothole-false-claim-rajasthan-up-delhi-1994528-2022-08-30\n",
      "/fact-check/story/fact-check-no-a-muslim-lawyer-did-not-move-supreme-court-to-get-gadar-2-banned-1994405-2022-08-30\n",
      "/fact-check/story/not-chambal-and-not-even-india-this-2021-video-of-a-boy-s-rescue-is-from-bangladesh-1993369-2022-08-27\n",
      "/fact-check/story/video-from-hyderabad-in-pakistan-falsely-shared-as-an-attack-on-hindus-in-india-1993088-2022-08-26\n",
      "/fact-check/story/fact-check-2021-video-of-andhra-pradesh-rescue-operation-goes-viral-as-from-flood-hit-madhya-pradesh-1992617-2022-08-25\n",
      "/fact-check/story/fact-check-this-gadkari-video-is-from-2019-three-years-before-his-ouster-from-bjp-parliamentary-board-1992600-2022-08-25\n",
      "/fact-check/story/viral-video-cops-nabbing-couples-during-raid-agra-shared-false-love-jihad-spin-1992540-2022-08-25\n",
      "/fact-check/story/2019-mock-drill-from-kuwait-falsely-shared-saudi-minister-getting-spooked-by-firecrackers-1992532-2022-08-25\n"
     ]
    }
   ],
   "source": [
    "for article_links in data['content']:\n",
    "    print(article_links['canonical_url'])"
   ]
  },
  {
   "cell_type": "code",
   "execution_count": null,
   "metadata": {},
   "outputs": [],
   "source": []
  }
 ],
 "metadata": {
  "kernelspec": {
   "display_name": "Python 3 (ipykernel)",
   "language": "python",
   "name": "python3"
  },
  "language_info": {
   "codemirror_mode": {
    "name": "ipython",
    "version": 3
   },
   "file_extension": ".py",
   "mimetype": "text/x-python",
   "name": "python",
   "nbconvert_exporter": "python",
   "pygments_lexer": "ipython3",
   "version": "3.11.0rc2"
  }
 },
 "nbformat": 4,
 "nbformat_minor": 2
}
